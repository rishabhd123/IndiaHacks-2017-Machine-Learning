{
 "cells": [
  {
   "cell_type": "code",
   "execution_count": null,
   "metadata": {
    "collapsed": true
   },
   "outputs": [],
   "source": [
    "%matplotlib inline\n",
    "import numpy as np\n",
    "import pandas as pd\n",
    "import matplotlib.pyplot as plt\n",
    "import seaborn as sns\n",
    "from sklearn.preprocessing import LabelEncoder"
   ]
  },
  {
   "cell_type": "code",
   "execution_count": null,
   "metadata": {
    "collapsed": true
   },
   "outputs": [],
   "source": [
    "sns.set(color_codes=True)"
   ]
  },
  {
   "cell_type": "code",
   "execution_count": null,
   "metadata": {
    "collapsed": true
   },
   "outputs": [],
   "source": [
    "train = pd.read_csv('train.csv')\n",
    "test = pd.read_csv('test.csv')"
   ]
  },
  {
   "cell_type": "code",
   "execution_count": null,
   "metadata": {
    "collapsed": true
   },
   "outputs": [],
   "source": [
    "other_df = pd.get_dummies(train['DetectedCamera']) \n",
    "other_df_test = pd.get_dummies(test['DetectedCamera'])"
   ]
  },
  {
   "cell_type": "code",
   "execution_count": null,
   "metadata": {
    "collapsed": true
   },
   "outputs": [],
   "source": [
    "merged_df = pd.concat([other_df,train],1) \n",
    "merged_df_test = pd.concat([other_df_test,test],1)"
   ]
  },
  {
   "cell_type": "code",
   "execution_count": null,
   "metadata": {
    "collapsed": true
   },
   "outputs": [],
   "source": [
    "le = LabelEncoder()\n",
    "merged_df['SignFacing (Target)']=le.fit_transform(merged_df['SignFacing (Target)'])\n"
   ]
  },
  {
   "cell_type": "code",
   "execution_count": null,
   "metadata": {
    "collapsed": true
   },
   "outputs": [],
   "source": [
    "train = merged_df \n",
    "test = merged_df_test"
   ]
  },
  {
   "cell_type": "code",
   "execution_count": null,
   "metadata": {
    "collapsed": true
   },
   "outputs": [],
   "source": [
    "train_label = train['SignFacing (Target)']\n",
    "\n",
    "training = train.drop(labels=['Id', 'DetectedCamera', 'SignFacing (Target)'], axis=1)\n",
    "testing = test.drop(labels=['Id', 'DetectedCamera'], axis=1)"
   ]
  },
  {
   "cell_type": "code",
   "execution_count": null,
   "metadata": {
    "collapsed": true
   },
   "outputs": [],
   "source": [
    "#It wont work. Dont know why\n",
    "training['sin'] = np.sin(training['AngleOfSign'])\n",
    "training['cos'] = np.cos(training['AngleOfSign'])\n",
    "\n",
    "testing['sin'] = np.sin(testing['AngleOfSign'])\n",
    "testing['cos'] = np.cos(testing['AngleOfSign'])"
   ]
  },
  {
   "cell_type": "code",
   "execution_count": null,
   "metadata": {
    "collapsed": false
   },
   "outputs": [],
   "source": [
    "from sklearn.ensemble import RandomForestClassifier\n",
    "from sklearn.model_selection import cross_val_score\n",
    "from sklearn.model_selection import KFold\n",
    "from sklearn.model_selection import GridSearchCV\n",
    "from sklearn.metrics import log_loss\n",
    "from sklearn.model_selection import train_test_split\n",
    "import xgboost as xgb\n"
   ]
  },
  {
   "cell_type": "markdown",
   "metadata": {},
   "source": [
    "## Grid Search"
   ]
  },
  {
   "cell_type": "code",
   "execution_count": null,
   "metadata": {
    "collapsed": false
   },
   "outputs": [],
   "source": [
    "# kfold = KFold(n_splits=3, random_state=7)\n",
    "# model = xgb.XGBClassifier(objective='multi:softprob', nthread=-1, reg_lambda=1, seed=2017, gamma=0.2, learning_rate=0.15, max_depth=4, min_child_weight=4, colsample_bylevel=0.6, colsample_bytree=1)\n",
    "# params_grid = { 'n_estimators':list([60,70,75,80,85]), 'reg_lambda':[5,6,7,8,9,10], 'subsample':[0.6,0.7,0.8,0.9,0.99]  }\n",
    "# grid1 = GridSearchCV(estimator=model, param_grid=params_grid, n_jobs=-1, scoring='log_loss', cv=kfold)\n",
    "# grid1.fit(training, train_label)"
   ]
  },
  {
   "cell_type": "code",
   "execution_count": null,
   "metadata": {
    "collapsed": false
   },
   "outputs": [],
   "source": [
    "# print grid1.best_estimator_\n",
    "# print grid1.best_params_\n",
    "# print grid1.best_score_\n",
    "# print grid1.best_index_"
   ]
  },
  {
   "cell_type": "code",
   "execution_count": null,
   "metadata": {
    "collapsed": false
   },
   "outputs": [],
   "source": [
    "# new_model = grid1.best_estimator_\n",
    "# new_model.fit(training, train_label)\n",
    "# prediction = new_model.predict_proba(testing)"
   ]
  },
  {
   "cell_type": "markdown",
   "metadata": {},
   "source": [
    "## Prep For XGB"
   ]
  },
  {
   "cell_type": "code",
   "execution_count": null,
   "metadata": {
    "collapsed": true
   },
   "outputs": [],
   "source": [
    "xtrain, xval, ytrain, yval = train_test_split(training,train_label,test_size=0.33,random_state=7)"
   ]
  },
  {
   "cell_type": "code",
   "execution_count": null,
   "metadata": {
    "collapsed": true
   },
   "outputs": [],
   "source": [
    "preds = testing.columns\n",
    "DMtraining = xgb.DMatrix(training, train_label, feature_names=preds)\n",
    "DMtrain = xgb.DMatrix(xtrain,ytrain,feature_names=preds)\n",
    "DMval = xgb.DMatrix(xval,yval,feature_names=preds)\n",
    "DMtest = xgb.DMatrix(testing, feature_names=preds)"
   ]
  },
  {
   "cell_type": "code",
   "execution_count": null,
   "metadata": {
    "collapsed": false
   },
   "outputs": [],
   "source": [
    "xgb_params={\n",
    "    'eta':0.15,\n",
    "    'max_depth':4,\n",
    "    'colsample_bytree':1.0,\n",
    "    'colsample_bylevel':0.6,\n",
    "    'subsample' : 0.9,\n",
    "    'objective':'multi:softprob',\n",
    "    'eval_metric':'mlogloss',\n",
    "    'min_child_weight':1,\n",
    "    'silent':1,\n",
    "    'seed':2017,\n",
    "    'nthread':4,\n",
    "    'gamma' : 0.2,\n",
    "    'num_class':4,\n",
    "    'lambda':7,\n",
    "    'alpha':0\n",
    "}"
   ]
  },
  {
   "cell_type": "code",
   "execution_count": null,
   "metadata": {
    "collapsed": true
   },
   "outputs": [],
   "source": [
    "watchlist = [(DMtrain, 'Train'), (DMval,'Validation')]\n",
    "num_rounds= 2500\n",
    "model = xgb.train(xgb_params, DMtrain, num_rounds, watchlist, early_stopping_rounds=80, verbose_eval=5)"
   ]
  },
  {
   "cell_type": "code",
   "execution_count": null,
   "metadata": {
    "collapsed": true
   },
   "outputs": [],
   "source": [
    "model = xgb.train(xgb_params, DMtraining,num_boost_round=int(82/95))\n",
    "prediction = model.predict(DMtest)"
   ]
  },
  {
   "cell_type": "code",
   "execution_count": null,
   "metadata": {
    "collapsed": true
   },
   "outputs": [],
   "source": [
    "subm_file = pd.read_csv('sample_submission.csv')"
   ]
  },
  {
   "cell_type": "code",
   "execution_count": null,
   "metadata": {
    "collapsed": true
   },
   "outputs": [],
   "source": [
    "subm_file['Id'] = test['Id']\n",
    "subm_file['Front'] = prediction[:,0]\n",
    "subm_file['Left'] = prediction[:,1]\n",
    "subm_file['Rear'] = prediction[:,2]\n",
    "subm_file['Right'] = prediction[:,3]"
   ]
  },
  {
   "cell_type": "code",
   "execution_count": null,
   "metadata": {
    "collapsed": true
   },
   "outputs": [],
   "source": [
    "subm_file.to_csv('subm_new3.csv', index=None)"
   ]
  },
  {
   "cell_type": "code",
   "execution_count": null,
   "metadata": {
    "collapsed": true
   },
   "outputs": [],
   "source": []
  }
 ],
 "metadata": {
  "kernelspec": {
   "display_name": "Python 2",
   "language": "python",
   "name": "python2"
  },
  "language_info": {
   "codemirror_mode": {
    "name": "ipython",
    "version": 2
   },
   "file_extension": ".py",
   "mimetype": "text/x-python",
   "name": "python",
   "nbconvert_exporter": "python",
   "pygments_lexer": "ipython2",
   "version": "2.7.13"
  }
 },
 "nbformat": 4,
 "nbformat_minor": 2
}
