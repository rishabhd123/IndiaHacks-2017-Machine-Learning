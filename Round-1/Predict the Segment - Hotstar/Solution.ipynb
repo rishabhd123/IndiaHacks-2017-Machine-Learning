{
 "cells": [
  {
   "cell_type": "code",
   "execution_count": 1,
   "metadata": {
    "collapsed": true
   },
   "outputs": [],
   "source": [
    "import numpy as np\n",
    "import pandas as pd\n",
    "import matplotlib.pyplot as plt\n",
    "%matplotlib inline\n",
    "import seaborn as sns\n",
    "import re\n"
   ]
  },
  {
   "cell_type": "code",
   "execution_count": 2,
   "metadata": {
    "collapsed": true
   },
   "outputs": [],
   "source": [
    "train_data = pd.read_json('train.json', orient='index')\n",
    "test_data = pd.read_json('test.json', orient='index')\n"
   ]
  },
  {
   "cell_type": "code",
   "execution_count": 3,
   "metadata": {
    "scrolled": true
   },
   "outputs": [
    {
     "data": {
      "text/html": [
       "<div>\n",
       "<table border=\"1\" class=\"dataframe\">\n",
       "  <thead>\n",
       "    <tr style=\"text-align: right;\">\n",
       "      <th></th>\n",
       "      <th>cities</th>\n",
       "      <th>dow</th>\n",
       "      <th>genres</th>\n",
       "      <th>segment</th>\n",
       "      <th>titles</th>\n",
       "      <th>tod</th>\n",
       "    </tr>\n",
       "  </thead>\n",
       "  <tbody>\n",
       "    <tr>\n",
       "      <th>train-1</th>\n",
       "      <td>gurgaon:55494,delhi:31892</td>\n",
       "      <td>1:3412,3:15878,2:1737,5:10975,4:20974,7:17820,...</td>\n",
       "      <td>Cricket:82379,Kabaddi:255,Reality:4751</td>\n",
       "      <td>neg</td>\n",
       "      <td>Top Raids: Haryana vs Services SCB:103,Day 4: ...</td>\n",
       "      <td>10:26,13:331,12:323,20:21864,21:16233,17:7953,...</td>\n",
       "    </tr>\n",
       "    <tr>\n",
       "      <th>train-10</th>\n",
       "      <td>delhi:5862,nagar:8916,mumbai:1593</td>\n",
       "      <td>1:5745,3:3025,2:3346,5:123,4:3007,7:1108,6:10</td>\n",
       "      <td>Cricket:15640,Wildlife:730</td>\n",
       "      <td>neg</td>\n",
       "      <td>Dhoni Quits Captaincy:148,Day 4: India Move in...</td>\n",
       "      <td>11:1661,10:384,20:401,21:798,22:221,16:525,19:...</td>\n",
       "    </tr>\n",
       "    <tr>\n",
       "      <th>train-100</th>\n",
       "      <td>navi mumbai:4142</td>\n",
       "      <td>3:4142</td>\n",
       "      <td>LiveTV:13,Football:4129</td>\n",
       "      <td>neg</td>\n",
       "      <td>Star Sports 4:13,Manchester United vs Everton:...</td>\n",
       "      <td>1:1207,0:2406,2:529</td>\n",
       "    </tr>\n",
       "    <tr>\n",
       "      <th>train-1000</th>\n",
       "      <td>new delhi:4131,chennai:2878,navi mumbai:1339</td>\n",
       "      <td>1:658,3:5867,5:413,4:1339,7:71</td>\n",
       "      <td>TalkShow:658,Cricket:7690</td>\n",
       "      <td>neg</td>\n",
       "      <td>SRH vs RCB:701,KKR vs KXIP:1042,MI vs SRH:2288...</td>\n",
       "      <td>11:71,20:2417,21:1042,23:2288,19:1872,8:658</td>\n",
       "    </tr>\n",
       "    <tr>\n",
       "      <th>train-10000</th>\n",
       "      <td>gurgaon:6077,chennai:4055</td>\n",
       "      <td>1:1641,2:480,4:1445,7:1663,6:4900</td>\n",
       "      <td>Drama:5503,Cricket:3283,Reality:1345</td>\n",
       "      <td>neg</td>\n",
       "      <td>MI vs KKR:304,Yeh Rishta Kya Kehlata Hai:5449,...</td>\n",
       "      <td>20:158,22:4139,17:67,23:1510,19:288,18:56,0:23...</td>\n",
       "    </tr>\n",
       "    <tr>\n",
       "      <th>train-100000</th>\n",
       "      <td>hyderabad:998,bangalore:2748,gulbarga:43317,be...</td>\n",
       "      <td>1:6707,3:1948,2:3574,5:8525,4:18938,7:8295,6:7344</td>\n",
       "      <td>Action:998,Drama:8795,Cricket:45541</td>\n",
       "      <td>neg</td>\n",
       "      <td>India vs Australia 2nd Test English:2836,SRH v...</td>\n",
       "      <td>11:3450,10:1243,13:4420,12:4210,20:7050,21:770...</td>\n",
       "    </tr>\n",
       "    <tr>\n",
       "      <th>train-100001</th>\n",
       "      <td>navi mumbai:10155</td>\n",
       "      <td>1:1575,3:5330,2:1242,4:2007</td>\n",
       "      <td>Action:963,TalkShow:18,Romance:1357,Mythology:...</td>\n",
       "      <td>neg</td>\n",
       "      <td>Jodi:7222,Maapillai:1357,Mahabharatham:594,Ban...</td>\n",
       "      <td>11:20,12:574,21:1357,22:1066,23:2290,0:4847</td>\n",
       "    </tr>\n",
       "    <tr>\n",
       "      <th>train-100002</th>\n",
       "      <td>delhi:1571,navi mumbai:12729</td>\n",
       "      <td>1:333,2:2233,5:739,4:268,7:10727</td>\n",
       "      <td>Drama:4344,Cricket:9956</td>\n",
       "      <td>neg</td>\n",
       "      <td>Chandra Nandni:4344,India vs England 2nd T20I ...</td>\n",
       "      <td>11:242,15:419,14:1877,22:309,19:3063,18:64,1:2...</td>\n",
       "    </tr>\n",
       "    <tr>\n",
       "      <th>train-100003</th>\n",
       "      <td>delhi:1318</td>\n",
       "      <td>2:34,5:1074,7:210</td>\n",
       "      <td>Cricket:1248,Comedy:70</td>\n",
       "      <td>neg</td>\n",
       "      <td>India vs Bangladesh Day 2 English:1066,Fielder...</td>\n",
       "      <td>10:844,20:65,17:69,23:78,19:40,9:222</td>\n",
       "    </tr>\n",
       "    <tr>\n",
       "      <th>train-100004</th>\n",
       "      <td>chandigarh:2214,delhi:3829,mumbai:9465</td>\n",
       "      <td>5:14,4:14292,7:1201</td>\n",
       "      <td>Action:86,Drama:4826,Cricket:10557,Kids:24,Tal...</td>\n",
       "      <td>neg</td>\n",
       "      <td>The Jungle Book:24,Jolly LLB:4826,Escape Plan:...</td>\n",
       "      <td>11:1,13:1610,12:2626,20:2325,21:2985,17:1252,1...</td>\n",
       "    </tr>\n",
       "  </tbody>\n",
       "</table>\n",
       "</div>"
      ],
      "text/plain": [
       "                                                         cities  \\\n",
       "train-1                               gurgaon:55494,delhi:31892   \n",
       "train-10                      delhi:5862,nagar:8916,mumbai:1593   \n",
       "train-100                                      navi mumbai:4142   \n",
       "train-1000         new delhi:4131,chennai:2878,navi mumbai:1339   \n",
       "train-10000                           gurgaon:6077,chennai:4055   \n",
       "train-100000  hyderabad:998,bangalore:2748,gulbarga:43317,be...   \n",
       "train-100001                                  navi mumbai:10155   \n",
       "train-100002                       delhi:1571,navi mumbai:12729   \n",
       "train-100003                                         delhi:1318   \n",
       "train-100004             chandigarh:2214,delhi:3829,mumbai:9465   \n",
       "\n",
       "                                                            dow  \\\n",
       "train-1       1:3412,3:15878,2:1737,5:10975,4:20974,7:17820,...   \n",
       "train-10          1:5745,3:3025,2:3346,5:123,4:3007,7:1108,6:10   \n",
       "train-100                                                3:4142   \n",
       "train-1000                       1:658,3:5867,5:413,4:1339,7:71   \n",
       "train-10000                   1:1641,2:480,4:1445,7:1663,6:4900   \n",
       "train-100000  1:6707,3:1948,2:3574,5:8525,4:18938,7:8295,6:7344   \n",
       "train-100001                        1:1575,3:5330,2:1242,4:2007   \n",
       "train-100002                   1:333,2:2233,5:739,4:268,7:10727   \n",
       "train-100003                                  2:34,5:1074,7:210   \n",
       "train-100004                                5:14,4:14292,7:1201   \n",
       "\n",
       "                                                         genres segment  \\\n",
       "train-1                  Cricket:82379,Kabaddi:255,Reality:4751     neg   \n",
       "train-10                             Cricket:15640,Wildlife:730     neg   \n",
       "train-100                               LiveTV:13,Football:4129     neg   \n",
       "train-1000                            TalkShow:658,Cricket:7690     neg   \n",
       "train-10000                Drama:5503,Cricket:3283,Reality:1345     neg   \n",
       "train-100000                Action:998,Drama:8795,Cricket:45541     neg   \n",
       "train-100001  Action:963,TalkShow:18,Romance:1357,Mythology:...     neg   \n",
       "train-100002                            Drama:4344,Cricket:9956     neg   \n",
       "train-100003                             Cricket:1248,Comedy:70     neg   \n",
       "train-100004  Action:86,Drama:4826,Cricket:10557,Kids:24,Tal...     neg   \n",
       "\n",
       "                                                         titles  \\\n",
       "train-1       Top Raids: Haryana vs Services SCB:103,Day 4: ...   \n",
       "train-10      Dhoni Quits Captaincy:148,Day 4: India Move in...   \n",
       "train-100     Star Sports 4:13,Manchester United vs Everton:...   \n",
       "train-1000    SRH vs RCB:701,KKR vs KXIP:1042,MI vs SRH:2288...   \n",
       "train-10000   MI vs KKR:304,Yeh Rishta Kya Kehlata Hai:5449,...   \n",
       "train-100000  India vs Australia 2nd Test English:2836,SRH v...   \n",
       "train-100001  Jodi:7222,Maapillai:1357,Mahabharatham:594,Ban...   \n",
       "train-100002  Chandra Nandni:4344,India vs England 2nd T20I ...   \n",
       "train-100003  India vs Bangladesh Day 2 English:1066,Fielder...   \n",
       "train-100004  The Jungle Book:24,Jolly LLB:4826,Escape Plan:...   \n",
       "\n",
       "                                                            tod  \n",
       "train-1       10:26,13:331,12:323,20:21864,21:16233,17:7953,...  \n",
       "train-10      11:1661,10:384,20:401,21:798,22:221,16:525,19:...  \n",
       "train-100                                   1:1207,0:2406,2:529  \n",
       "train-1000          11:71,20:2417,21:1042,23:2288,19:1872,8:658  \n",
       "train-10000   20:158,22:4139,17:67,23:1510,19:288,18:56,0:23...  \n",
       "train-100000  11:3450,10:1243,13:4420,12:4210,20:7050,21:770...  \n",
       "train-100001        11:20,12:574,21:1357,22:1066,23:2290,0:4847  \n",
       "train-100002  11:242,15:419,14:1877,22:309,19:3063,18:64,1:2...  \n",
       "train-100003               10:844,20:65,17:69,23:78,19:40,9:222  \n",
       "train-100004  11:1,13:1610,12:2626,20:2325,21:2985,17:1252,1...  "
      ]
     },
     "execution_count": 3,
     "metadata": {},
     "output_type": "execute_result"
    }
   ],
   "source": [
    "train_data.head(10)"
   ]
  },
  {
   "cell_type": "code",
   "execution_count": 4,
   "metadata": {
    "collapsed": true
   },
   "outputs": [],
   "source": [
    "train_data.reset_index(level=0, inplace=True)\n",
    "train_data.rename(columns={'segment':'target', 'index':'ID'}, inplace=True)\n",
    "train_data.replace({'target':{'neg':0,'pos':1}}, inplace=True)"
   ]
  },
  {
   "cell_type": "code",
   "execution_count": 5,
   "metadata": {
    "collapsed": true
   },
   "outputs": [],
   "source": [
    "test_data.reset_index(level=0, inplace=True)\n",
    "test_data.rename(columns={'index':'ID'}, inplace=True)"
   ]
  },
  {
   "cell_type": "markdown",
   "metadata": {},
   "source": [
    "## Retrieving Genre Names & Creating columns for Each genre"
   ]
  },
  {
   "cell_type": "code",
   "execution_count": 6,
   "metadata": {
    "collapsed": true
   },
   "outputs": [],
   "source": [
    "train_data['genre_list']=[re.sub(pattern='\\:\\d+', repl='', string=x) for x in train_data['genres']]\n",
    "train_data['genre_list']=train_data['genre_list'].apply(lambda x: x.split(',')) \n",
    "#[x.split(',') for x in train_data['genre_list']]- It will work in same manner only diff is it returns list"
   ]
  },
  {
   "cell_type": "code",
   "execution_count": 7,
   "metadata": {
    "collapsed": true
   },
   "outputs": [],
   "source": [
    "test_data['genre_list'] = [re.sub(pattern='\\:\\d+', repl='', string=x) for x in test_data['genres'] ]\n",
    "test_data['genre_list'] = test_data['genre_list'].apply(lambda x: x.split(','))"
   ]
  },
  {
   "cell_type": "code",
   "execution_count": 8,
   "metadata": {
    "collapsed": true
   },
   "outputs": [],
   "source": [
    "k=train_data['genre_list'].apply(frozenset)  #Frozensets of genre for each row\n",
    "t1 = frozenset.union(*k)                     #set of genres(union of frozen sets)\n",
    "for i in t1:\n",
    "    train_data[i] = train_data['genre_list'].apply(lambda x: int(i in x))"
   ]
  },
  {
   "cell_type": "code",
   "execution_count": 9,
   "metadata": {
    "collapsed": true
   },
   "outputs": [],
   "source": [
    "k=test_data['genre_list'].apply(frozenset)  #Frozensets of genre for each row\n",
    "t2 = frozenset.union(*k)                    #set of genres(union of frozen sets)\n",
    "for i in t2:\n",
    "    test_data[i] = test_data['genre_list'].apply(lambda x: int(i in x))"
   ]
  },
  {
   "cell_type": "markdown",
   "metadata": {},
   "source": [
    "## Retrieving DOW & Creating columns for Each DOW"
   ]
  },
  {
   "cell_type": "code",
   "execution_count": 10,
   "metadata": {
    "collapsed": true
   },
   "outputs": [],
   "source": [
    "train_data['dow_list'] = [re.sub(pattern='\\:\\d+', repl='', string=x) for x in train_data['dow']]\n",
    "train_data['dow_list'] = train_data['dow_list'].apply(lambda x: x.split(','))"
   ]
  },
  {
   "cell_type": "code",
   "execution_count": 11,
   "metadata": {
    "collapsed": true
   },
   "outputs": [],
   "source": [
    "test_data['dow_list'] = [re.sub(pattern='\\:\\d+', repl='', string=x) for x in test_data['dow']]\n",
    "test_data['dow_list'] = test_data['dow_list'].apply(lambda x: x.split(','))"
   ]
  },
  {
   "cell_type": "code",
   "execution_count": 12,
   "metadata": {
    "collapsed": true
   },
   "outputs": [],
   "source": [
    "k = train_data['dow_list'].apply(frozenset)\n",
    "t1 = frozenset.union(*k)\n",
    "\n",
    "for i in t1:\n",
    "    col='dow'+str(i)\n",
    "    train_data[col] = train_data['dow_list'].apply(lambda x: int(i in x))"
   ]
  },
  {
   "cell_type": "code",
   "execution_count": 13,
   "metadata": {
    "collapsed": true
   },
   "outputs": [],
   "source": [
    "k = test_data['dow_list'].apply(frozenset)\n",
    "t2 = frozenset.union(*k)\n",
    "\n",
    "for i in t2:\n",
    "    col='dow'+str(i)\n",
    "    test_data[col] = test_data['dow_list'].apply(lambda x: int(i in x))"
   ]
  },
  {
   "cell_type": "markdown",
   "metadata": {},
   "source": [
    "## Retrieving City Names & Creating columns for Each city"
   ]
  },
  {
   "cell_type": "code",
   "execution_count": 14,
   "metadata": {
    "collapsed": true
   },
   "outputs": [],
   "source": [
    "train_data['city_list'] = [re.sub(pattern='\\:\\d+', repl='', string=x) for x in train_data['cities']]\n",
    "train_data['city_list'] = train_data['city_list'].apply(lambda x: x.split(','))"
   ]
  },
  {
   "cell_type": "code",
   "execution_count": 15,
   "metadata": {
    "collapsed": true
   },
   "outputs": [],
   "source": [
    "test_data['city_list'] = [re.sub(pattern='\\:\\d+', repl='', string=x) for x in test_data['cities']]\n",
    "test_data['city_list'] = test_data['city_list'].apply(lambda x: x.split(','))"
   ]
  },
  {
   "cell_type": "markdown",
   "metadata": {},
   "source": [
    "## Retrieving TOD"
   ]
  },
  {
   "cell_type": "code",
   "execution_count": 16,
   "metadata": {
    "collapsed": true
   },
   "outputs": [],
   "source": [
    "train_data['tod_list'] = [re.sub(pattern='\\:\\d+', repl='', string=x) for x in train_data['tod']]\n",
    "train_data['tod_list'] = train_data['tod_list'].apply(lambda x:x.split(','))"
   ]
  },
  {
   "cell_type": "code",
   "execution_count": 17,
   "metadata": {
    "collapsed": true
   },
   "outputs": [],
   "source": [
    "test_data['tod_list'] = [re.sub(pattern='\\:\\d+', repl='', string=x) for x in test_data['tod']]\n",
    "test_data['tod_list'] = test_data['tod_list'].apply(lambda x: x.split(','))"
   ]
  },
  {
   "cell_type": "code",
   "execution_count": 18,
   "metadata": {
    "collapsed": true
   },
   "outputs": [],
   "source": [
    "k = train_data['tod_list'].apply(frozenset)\n",
    "t1 = frozenset.union(*k)\n",
    "for i in t1:\n",
    "    col='tod'+str(i)\n",
    "    train_data[col] = train_data['tod_list'].apply(lambda x: int(i in x))"
   ]
  },
  {
   "cell_type": "code",
   "execution_count": 19,
   "metadata": {
    "collapsed": true
   },
   "outputs": [],
   "source": [
    "k = test_data['tod_list'].apply(frozenset)\n",
    "t2 = frozenset.union(*k)\n",
    "for i in t2:\n",
    "    col = 'tod'+str(i)\n",
    "    test_data[col] = test_data['tod_list'].apply(lambda x: int(i in x))"
   ]
  },
  {
   "cell_type": "markdown",
   "metadata": {},
   "source": [
    "## Calculating Total time for each row"
   ]
  },
  {
   "cell_type": "code",
   "execution_count": 20,
   "metadata": {
    "collapsed": true
   },
   "outputs": [],
   "source": [
    "t1=[]\n",
    "for i in np.arange(train_data.shape[0]):\n",
    "    a=np.sum(pd.Series(re.sub(pattern='.*\\:', repl='', string=x) for x in (train_data['cities'][i].split(','))).apply(int))\n",
    "    t1.append(a)\n",
    "\n",
    "train_data['total_time']=t1"
   ]
  },
  {
   "cell_type": "code",
   "execution_count": 21,
   "metadata": {
    "collapsed": true
   },
   "outputs": [],
   "source": [
    "t1=[]\n",
    "for i in np.arange(test_data.shape[0]):\n",
    "    a=np.sum(pd.Series(re.sub(pattern='.*\\:', repl='', string=x) for x in (test_data['cities'][i].split(','))).apply(int))\n",
    "    t1.append(a)\n",
    "\n",
    "test_data['total_time']=t1"
   ]
  },
  {
   "cell_type": "markdown",
   "metadata": {},
   "source": [
    "## Counting Number of titles, genres etc, for each row"
   ]
  },
  {
   "cell_type": "code",
   "execution_count": 22,
   "metadata": {
    "collapsed": true
   },
   "outputs": [],
   "source": [
    "def wcount(p):\n",
    "    return (p.count(',')+1)"
   ]
  },
  {
   "cell_type": "code",
   "execution_count": 23,
   "metadata": {
    "collapsed": true
   },
   "outputs": [],
   "source": [
    "train_data['title_count'] = train_data['titles'].map(wcount)\n",
    "train_data['genre_count'] = train_data['genres'].map(wcount)\n",
    "train_data['city_count'] = train_data['cities'].map(wcount)\n",
    "train_data['tod_count'] = train_data['tod'].map(wcount)\n",
    "train_data['dow_count'] = train_data['dow'].map(wcount)"
   ]
  },
  {
   "cell_type": "code",
   "execution_count": 24,
   "metadata": {
    "collapsed": true
   },
   "outputs": [],
   "source": [
    "test_data['title_count'] = test_data['titles'].map(wcount)\n",
    "test_data['genre_count'] = test_data['genres'].map(wcount)\n",
    "test_data['city_count'] = test_data['cities'].map(wcount)\n",
    "test_data['tod_count'] = test_data['tod'].map(wcount)\n",
    "test_data['dow_count'] = test_data['dow'].map(wcount)"
   ]
  },
  {
   "cell_type": "code",
   "execution_count": 25,
   "metadata": {
    "collapsed": true
   },
   "outputs": [],
   "source": [
    "drop_col = ['ID','cities','dow', 'genres', 'titles', 'tod', 'genre_list', 'dow_list', 'city_list', 'tod_list',\n",
    "           'NA']\n",
    "train = train_data.drop(labels=drop_col, axis=1)\n",
    "test = test_data.drop(labels=drop_col, axis=1)\n",
    "label = train['target']\n",
    "train.drop(labels=['target'], inplace=True, axis=1) "
   ]
  },
  {
   "cell_type": "code",
   "execution_count": 26,
   "metadata": {
    "collapsed": true
   },
   "outputs": [],
   "source": [
    "from sklearn.ensemble import RandomForestClassifier\n",
    "from sklearn.model_selection import cross_val_score\n",
    "from sklearn.model_selection import KFold\n",
    "from sklearn.metrics import auc"
   ]
  },
  {
   "cell_type": "code",
   "execution_count": 45,
   "metadata": {},
   "outputs": [
    {
     "data": {
      "text/plain": [
       "array([ 0.78173452,  0.79900969,  0.79452246])"
      ]
     },
     "execution_count": 45,
     "metadata": {},
     "output_type": "execute_result"
    }
   ],
   "source": [
    "model = RandomForestClassifier(n_estimators=200, max_depth=5 )\n",
    "kfold = KFold(n_splits=3, random_state=7)\n",
    "results = cross_val_score(model,train,label,cv=kfold,scoring='roc_auc',n_jobs=-1)\n",
    "results"
   ]
  },
  {
   "cell_type": "code",
   "execution_count": 32,
   "metadata": {
    "collapsed": true
   },
   "outputs": [],
   "source": [
    "model = RandomForestClassifier(n_estimators=200, max_depth=7 )\n",
    "model.fit(train,label);\n"
   ]
  },
  {
   "cell_type": "code",
   "execution_count": 43,
   "metadata": {
    "collapsed": true
   },
   "outputs": [],
   "source": [
    "prediction = model.predict_proba(test)"
   ]
  },
  {
   "cell_type": "code",
   "execution_count": 44,
   "metadata": {},
   "outputs": [],
   "source": [
    "prediction = prediction[:,1]"
   ]
  },
  {
   "cell_type": "code",
   "execution_count": 132,
   "metadata": {
    "collapsed": true
   },
   "outputs": [],
   "source": [
    "import xgboost as xgb\n",
    "from sklearn.model_selection import train_test_split\n"
   ]
  },
  {
   "cell_type": "code",
   "execution_count": 133,
   "metadata": {
    "collapsed": true
   },
   "outputs": [],
   "source": [
    "trainX, valX, train_l, val_l = train_test_split(train,label, test_size=0.33, random_state=2017)\n"
   ]
  },
  {
   "cell_type": "code",
   "execution_count": 134,
   "metadata": {
    "collapsed": true
   },
   "outputs": [],
   "source": [
    "preds = train.columns\n",
    "DMtrain_all = xgb.DMatrix(train, label, feature_names=preds)\n",
    "DMtrain = xgb.DMatrix(trainX, train_l, feature_names=preds)\n",
    "DMval = xgb.DMatrix(valX, val_l, feature_names=preds)\n",
    "DMtest = xgb.DMatrix(test, feature_names=preds)"
   ]
  },
  {
   "cell_type": "code",
   "execution_count": 135,
   "metadata": {
    "collapsed": true
   },
   "outputs": [],
   "source": [
    "xgb_params={\n",
    "    'eta':0.1,\n",
    "    'max_depth':6,\n",
    "    'subsample':0.7,\n",
    "    'objective':'binary:logistic',\n",
    "    'eval_metric':'auc',\n",
    "    'min_child_weight':1,\n",
    "    'silent':1,\n",
    "    'seed':7,\n",
    "    'nthread':4\n",
    "}"
   ]
  },
  {
   "cell_type": "code",
   "execution_count": 136,
   "metadata": {
    "collapsed": true
   },
   "outputs": [
    {
     "name": "stdout",
     "output_type": "stream",
     "text": [
      "[0]\tTrain-auc:0.78429\tValidation-auc:0.779239\n",
      "Multiple eval metrics have been passed: 'Validation-auc' will be used for early stopping.\n",
      "\n",
      "Will train until Validation-auc hasn't improved in 50 rounds.\n",
      "[5]\tTrain-auc:0.798306\tValidation-auc:0.789199\n",
      "[10]\tTrain-auc:0.802334\tValidation-auc:0.792436\n",
      "[15]\tTrain-auc:0.805481\tValidation-auc:0.794851\n",
      "[20]\tTrain-auc:0.807826\tValidation-auc:0.796302\n",
      "[25]\tTrain-auc:0.810553\tValidation-auc:0.797575\n",
      "[30]\tTrain-auc:0.813545\tValidation-auc:0.79924\n",
      "[35]\tTrain-auc:0.816104\tValidation-auc:0.800367\n",
      "[40]\tTrain-auc:0.818758\tValidation-auc:0.801593\n",
      "[45]\tTrain-auc:0.821336\tValidation-auc:0.802599\n",
      "[50]\tTrain-auc:0.823481\tValidation-auc:0.803081\n",
      "[55]\tTrain-auc:0.82518\tValidation-auc:0.803466\n",
      "[60]\tTrain-auc:0.827159\tValidation-auc:0.804026\n",
      "[65]\tTrain-auc:0.829049\tValidation-auc:0.804311\n",
      "[70]\tTrain-auc:0.8309\tValidation-auc:0.804659\n",
      "[75]\tTrain-auc:0.832746\tValidation-auc:0.804763\n",
      "[80]\tTrain-auc:0.833746\tValidation-auc:0.804698\n",
      "[85]\tTrain-auc:0.835473\tValidation-auc:0.804687\n",
      "[90]\tTrain-auc:0.836738\tValidation-auc:0.804592\n",
      "[95]\tTrain-auc:0.837886\tValidation-auc:0.804505\n",
      "[100]\tTrain-auc:0.83925\tValidation-auc:0.804436\n",
      "[105]\tTrain-auc:0.840488\tValidation-auc:0.804388\n",
      "[110]\tTrain-auc:0.842007\tValidation-auc:0.804387\n",
      "[115]\tTrain-auc:0.84338\tValidation-auc:0.804269\n",
      "[120]\tTrain-auc:0.844832\tValidation-auc:0.804268\n",
      "[125]\tTrain-auc:0.845548\tValidation-auc:0.804216\n",
      "Stopping. Best iteration:\n",
      "[75]\tTrain-auc:0.832746\tValidation-auc:0.804763\n",
      "\n"
     ]
    }
   ],
   "source": [
    "watchlist = [(DMtrain, 'Train'), (DMval, 'Validation')]\n",
    "num_rounds = 2000\n",
    "model = xgb.train(xgb_params, DMtrain, num_rounds, watchlist, early_stopping_rounds=50,verbose_eval=5)\n",
    "              "
   ]
  },
  {
   "cell_type": "code",
   "execution_count": 102,
   "metadata": {},
   "outputs": [
    {
     "data": {
      "text/plain": [
       "(200000, 71)"
      ]
     },
     "execution_count": 102,
     "metadata": {},
     "output_type": "execute_result"
    }
   ],
   "source": [
    "train.shape"
   ]
  },
  {
   "cell_type": "code",
   "execution_count": 111,
   "metadata": {
    "collapsed": true
   },
   "outputs": [],
   "source": [
    "model = xgb.train(xgb_params, DMtrain_all, num_boost_round=int(438/0.95))"
   ]
  },
  {
   "cell_type": "code",
   "execution_count": 112,
   "metadata": {
    "collapsed": true
   },
   "outputs": [],
   "source": [
    "prediction = model.predict(DMtest)"
   ]
  },
  {
   "cell_type": "code",
   "execution_count": 41,
   "metadata": {
    "collapsed": true
   },
   "outputs": [],
   "source": [
    "sub_file = pd.read_csv('sample_submission.csv')\n",
    "sub_file['ID'] = test_data['ID']\n",
    "sub_file['segment'] = prediction"
   ]
  },
  {
   "cell_type": "code",
   "execution_count": 42,
   "metadata": {
    "collapsed": true
   },
   "outputs": [],
   "source": [
    "sub_file.to_csv('subm_file.csv', index=False)"
   ]
  },
  {
   "cell_type": "code",
   "execution_count": null,
   "metadata": {
    "collapsed": true
   },
   "outputs": [],
   "source": []
  }
 ],
 "metadata": {
  "kernelspec": {
   "display_name": "Python 2",
   "language": "python",
   "name": "python2"
  },
  "language_info": {
   "codemirror_mode": {
    "name": "ipython",
    "version": 2
   },
   "file_extension": ".py",
   "mimetype": "text/x-python",
   "name": "python",
   "nbconvert_exporter": "python",
   "pygments_lexer": "ipython2",
   "version": "2.7.12"
  }
 },
 "nbformat": 4,
 "nbformat_minor": 2
}
